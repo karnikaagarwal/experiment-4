{
  "nbformat": 4,
  "nbformat_minor": 0,
  "metadata": {
    "colab": {
      "provenance": [],
      "authorship_tag": "ABX9TyOokKuMdBQWYy0e1shYbFnW",
      "include_colab_link": true
    },
    "kernelspec": {
      "name": "python3",
      "display_name": "Python 3"
    },
    "language_info": {
      "name": "python"
    }
  },
  "cells": [
    {
      "cell_type": "markdown",
      "metadata": {
        "id": "view-in-github",
        "colab_type": "text"
      },
      "source": [
        "<a href=\"https://colab.research.google.com/github/karnikaagarwal/experiment-4/blob/main/AIML%20Ex7.ipynb\" target=\"_parent\"><img src=\"https://colab.research.google.com/assets/colab-badge.svg\" alt=\"Open In Colab\"/></a>"
      ]
    },
    {
      "cell_type": "code",
      "execution_count": 18,
      "metadata": {
        "id": "Ttian958FEy2"
      },
      "outputs": [],
      "source": [
        "# Importing required libraries\n",
        "import pandas as pd\n",
        "from sklearn.preprocessing import MinMaxScaler, StandardScaler\n",
        "from sklearn.preprocessing import OneHotEncoder\n",
        "\n",
        "\n"
      ]
    },
    {
      "cell_type": "code",
      "source": [
        "from google.colab import files\n",
        "import pandas as pd\n",
        "\n",
        "# Upload the file\n",
        "uploaded = files.upload()\n",
        "\n",
        "# Load the uploaded file\n",
        "data = pd.read_csv('supermarket_sales.csv')\n",
        "\n",
        "# Display the first few rows of the dataset\n",
        "print(data.head())\n"
      ],
      "metadata": {
        "colab": {
          "base_uri": "https://localhost:8080/",
          "height": 437
        },
        "id": "C08VD1kNbAj6",
        "outputId": "3dca9bb8-1601-4a91-fe98-15ab84ad9e79"
      },
      "execution_count": 3,
      "outputs": [
        {
          "output_type": "display_data",
          "data": {
            "text/plain": [
              "<IPython.core.display.HTML object>"
            ],
            "text/html": [
              "\n",
              "     <input type=\"file\" id=\"files-476b64e4-a92f-4536-b6d7-d944d887ba36\" name=\"files[]\" multiple disabled\n",
              "        style=\"border:none\" />\n",
              "     <output id=\"result-476b64e4-a92f-4536-b6d7-d944d887ba36\">\n",
              "      Upload widget is only available when the cell has been executed in the\n",
              "      current browser session. Please rerun this cell to enable.\n",
              "      </output>\n",
              "      <script>// Copyright 2017 Google LLC\n",
              "//\n",
              "// Licensed under the Apache License, Version 2.0 (the \"License\");\n",
              "// you may not use this file except in compliance with the License.\n",
              "// You may obtain a copy of the License at\n",
              "//\n",
              "//      http://www.apache.org/licenses/LICENSE-2.0\n",
              "//\n",
              "// Unless required by applicable law or agreed to in writing, software\n",
              "// distributed under the License is distributed on an \"AS IS\" BASIS,\n",
              "// WITHOUT WARRANTIES OR CONDITIONS OF ANY KIND, either express or implied.\n",
              "// See the License for the specific language governing permissions and\n",
              "// limitations under the License.\n",
              "\n",
              "/**\n",
              " * @fileoverview Helpers for google.colab Python module.\n",
              " */\n",
              "(function(scope) {\n",
              "function span(text, styleAttributes = {}) {\n",
              "  const element = document.createElement('span');\n",
              "  element.textContent = text;\n",
              "  for (const key of Object.keys(styleAttributes)) {\n",
              "    element.style[key] = styleAttributes[key];\n",
              "  }\n",
              "  return element;\n",
              "}\n",
              "\n",
              "// Max number of bytes which will be uploaded at a time.\n",
              "const MAX_PAYLOAD_SIZE = 100 * 1024;\n",
              "\n",
              "function _uploadFiles(inputId, outputId) {\n",
              "  const steps = uploadFilesStep(inputId, outputId);\n",
              "  const outputElement = document.getElementById(outputId);\n",
              "  // Cache steps on the outputElement to make it available for the next call\n",
              "  // to uploadFilesContinue from Python.\n",
              "  outputElement.steps = steps;\n",
              "\n",
              "  return _uploadFilesContinue(outputId);\n",
              "}\n",
              "\n",
              "// This is roughly an async generator (not supported in the browser yet),\n",
              "// where there are multiple asynchronous steps and the Python side is going\n",
              "// to poll for completion of each step.\n",
              "// This uses a Promise to block the python side on completion of each step,\n",
              "// then passes the result of the previous step as the input to the next step.\n",
              "function _uploadFilesContinue(outputId) {\n",
              "  const outputElement = document.getElementById(outputId);\n",
              "  const steps = outputElement.steps;\n",
              "\n",
              "  const next = steps.next(outputElement.lastPromiseValue);\n",
              "  return Promise.resolve(next.value.promise).then((value) => {\n",
              "    // Cache the last promise value to make it available to the next\n",
              "    // step of the generator.\n",
              "    outputElement.lastPromiseValue = value;\n",
              "    return next.value.response;\n",
              "  });\n",
              "}\n",
              "\n",
              "/**\n",
              " * Generator function which is called between each async step of the upload\n",
              " * process.\n",
              " * @param {string} inputId Element ID of the input file picker element.\n",
              " * @param {string} outputId Element ID of the output display.\n",
              " * @return {!Iterable<!Object>} Iterable of next steps.\n",
              " */\n",
              "function* uploadFilesStep(inputId, outputId) {\n",
              "  const inputElement = document.getElementById(inputId);\n",
              "  inputElement.disabled = false;\n",
              "\n",
              "  const outputElement = document.getElementById(outputId);\n",
              "  outputElement.innerHTML = '';\n",
              "\n",
              "  const pickedPromise = new Promise((resolve) => {\n",
              "    inputElement.addEventListener('change', (e) => {\n",
              "      resolve(e.target.files);\n",
              "    });\n",
              "  });\n",
              "\n",
              "  const cancel = document.createElement('button');\n",
              "  inputElement.parentElement.appendChild(cancel);\n",
              "  cancel.textContent = 'Cancel upload';\n",
              "  const cancelPromise = new Promise((resolve) => {\n",
              "    cancel.onclick = () => {\n",
              "      resolve(null);\n",
              "    };\n",
              "  });\n",
              "\n",
              "  // Wait for the user to pick the files.\n",
              "  const files = yield {\n",
              "    promise: Promise.race([pickedPromise, cancelPromise]),\n",
              "    response: {\n",
              "      action: 'starting',\n",
              "    }\n",
              "  };\n",
              "\n",
              "  cancel.remove();\n",
              "\n",
              "  // Disable the input element since further picks are not allowed.\n",
              "  inputElement.disabled = true;\n",
              "\n",
              "  if (!files) {\n",
              "    return {\n",
              "      response: {\n",
              "        action: 'complete',\n",
              "      }\n",
              "    };\n",
              "  }\n",
              "\n",
              "  for (const file of files) {\n",
              "    const li = document.createElement('li');\n",
              "    li.append(span(file.name, {fontWeight: 'bold'}));\n",
              "    li.append(span(\n",
              "        `(${file.type || 'n/a'}) - ${file.size} bytes, ` +\n",
              "        `last modified: ${\n",
              "            file.lastModifiedDate ? file.lastModifiedDate.toLocaleDateString() :\n",
              "                                    'n/a'} - `));\n",
              "    const percent = span('0% done');\n",
              "    li.appendChild(percent);\n",
              "\n",
              "    outputElement.appendChild(li);\n",
              "\n",
              "    const fileDataPromise = new Promise((resolve) => {\n",
              "      const reader = new FileReader();\n",
              "      reader.onload = (e) => {\n",
              "        resolve(e.target.result);\n",
              "      };\n",
              "      reader.readAsArrayBuffer(file);\n",
              "    });\n",
              "    // Wait for the data to be ready.\n",
              "    let fileData = yield {\n",
              "      promise: fileDataPromise,\n",
              "      response: {\n",
              "        action: 'continue',\n",
              "      }\n",
              "    };\n",
              "\n",
              "    // Use a chunked sending to avoid message size limits. See b/62115660.\n",
              "    let position = 0;\n",
              "    do {\n",
              "      const length = Math.min(fileData.byteLength - position, MAX_PAYLOAD_SIZE);\n",
              "      const chunk = new Uint8Array(fileData, position, length);\n",
              "      position += length;\n",
              "\n",
              "      const base64 = btoa(String.fromCharCode.apply(null, chunk));\n",
              "      yield {\n",
              "        response: {\n",
              "          action: 'append',\n",
              "          file: file.name,\n",
              "          data: base64,\n",
              "        },\n",
              "      };\n",
              "\n",
              "      let percentDone = fileData.byteLength === 0 ?\n",
              "          100 :\n",
              "          Math.round((position / fileData.byteLength) * 100);\n",
              "      percent.textContent = `${percentDone}% done`;\n",
              "\n",
              "    } while (position < fileData.byteLength);\n",
              "  }\n",
              "\n",
              "  // All done.\n",
              "  yield {\n",
              "    response: {\n",
              "      action: 'complete',\n",
              "    }\n",
              "  };\n",
              "}\n",
              "\n",
              "scope.google = scope.google || {};\n",
              "scope.google.colab = scope.google.colab || {};\n",
              "scope.google.colab._files = {\n",
              "  _uploadFiles,\n",
              "  _uploadFilesContinue,\n",
              "};\n",
              "})(self);\n",
              "</script> "
            ]
          },
          "metadata": {}
        },
        {
          "output_type": "stream",
          "name": "stdout",
          "text": [
            "Saving supermarket_sales.csv to supermarket_sales.csv\n",
            "    Invoice ID Branch       City Customer type  Gender  \\\n",
            "0  750-67-8428      A     Yangon        Member  Female   \n",
            "1  226-31-3081      C  Naypyitaw        Normal  Female   \n",
            "2  631-41-3108      A     Yangon        Normal    Male   \n",
            "3  123-19-1176      A     Yangon        Member    Male   \n",
            "4  373-73-7910      A     Yangon        Normal    Male   \n",
            "\n",
            "             Product line  Unit price  Quantity   Tax 5%     Total       Date  \\\n",
            "0       Health and beauty       74.69         7  26.1415  548.9715   1/5/2019   \n",
            "1  Electronic accessories       15.28         5   3.8200   80.2200   3/8/2019   \n",
            "2      Home and lifestyle       46.33         7  16.2155  340.5255   3/3/2019   \n",
            "3       Health and beauty       58.22         8  23.2880  489.0480  1/27/2019   \n",
            "4       Sports and travel       86.31         7  30.2085  634.3785   2/8/2019   \n",
            "\n",
            "    Time      Payment    cogs  gross margin percentage  gross income  Rating  \n",
            "0  13:08      Ewallet  522.83                 4.761905       26.1415     9.1  \n",
            "1  10:29         Cash   76.40                 4.761905        3.8200     9.6  \n",
            "2  13:23  Credit card  324.31                 4.761905       16.2155     7.4  \n",
            "3  20:33      Ewallet  465.76                 4.761905       23.2880     8.4  \n",
            "4  10:37      Ewallet  604.17                 4.761905       30.2085     5.3  \n"
          ]
        }
      ]
    },
    {
      "cell_type": "code",
      "source": [
        "# Displaying basic details\n",
        "print(\"Basic Details of the Dataset:\")\n",
        "print(\"Number of rows:\", data.shape[0])\n",
        "print(\"Number of columns:\", data.shape[1])\n",
        "print(\"Data types:\\n\", data.dtypes)\n",
        "print(\"\\nFirst 5 rows of the dataset:\\n\", data.head())"
      ],
      "metadata": {
        "id": "Ic36HhY-FPO7",
        "colab": {
          "base_uri": "https://localhost:8080/"
        },
        "outputId": "38712d70-88b1-42b4-94fa-eddb46d5e199"
      },
      "execution_count": 4,
      "outputs": [
        {
          "output_type": "stream",
          "name": "stdout",
          "text": [
            "Basic Details of the Dataset:\n",
            "Number of rows: 1000\n",
            "Number of columns: 17\n",
            "Data types:\n",
            " Invoice ID                  object\n",
            "Branch                      object\n",
            "City                        object\n",
            "Customer type               object\n",
            "Gender                      object\n",
            "Product line                object\n",
            "Unit price                 float64\n",
            "Quantity                     int64\n",
            "Tax 5%                     float64\n",
            "Total                      float64\n",
            "Date                        object\n",
            "Time                        object\n",
            "Payment                     object\n",
            "cogs                       float64\n",
            "gross margin percentage    float64\n",
            "gross income               float64\n",
            "Rating                     float64\n",
            "dtype: object\n",
            "\n",
            "First 5 rows of the dataset:\n",
            "     Invoice ID Branch       City Customer type  Gender  \\\n",
            "0  750-67-8428      A     Yangon        Member  Female   \n",
            "1  226-31-3081      C  Naypyitaw        Normal  Female   \n",
            "2  631-41-3108      A     Yangon        Normal    Male   \n",
            "3  123-19-1176      A     Yangon        Member    Male   \n",
            "4  373-73-7910      A     Yangon        Normal    Male   \n",
            "\n",
            "             Product line  Unit price  Quantity   Tax 5%     Total       Date  \\\n",
            "0       Health and beauty       74.69         7  26.1415  548.9715   1/5/2019   \n",
            "1  Electronic accessories       15.28         5   3.8200   80.2200   3/8/2019   \n",
            "2      Home and lifestyle       46.33         7  16.2155  340.5255   3/3/2019   \n",
            "3       Health and beauty       58.22         8  23.2880  489.0480  1/27/2019   \n",
            "4       Sports and travel       86.31         7  30.2085  634.3785   2/8/2019   \n",
            "\n",
            "    Time      Payment    cogs  gross margin percentage  gross income  Rating  \n",
            "0  13:08      Ewallet  522.83                 4.761905       26.1415     9.1  \n",
            "1  10:29         Cash   76.40                 4.761905        3.8200     9.6  \n",
            "2  13:23  Credit card  324.31                 4.761905       16.2155     7.4  \n",
            "3  20:33      Ewallet  465.76                 4.761905       23.2880     8.4  \n",
            "4  10:37      Ewallet  604.17                 4.761905       30.2085     5.3  \n"
          ]
        }
      ]
    },
    {
      "cell_type": "code",
      "source": [
        "# Separating numerical and categorical columns\n",
        "numerical_columns = data.select_dtypes(include=['float64', 'int64']).columns\n",
        "categorical_columns = data.select_dtypes(include=['object']).columns\n",
        "\n",
        "print(\"\\nNumerical Columns:\", list(numerical_columns))\n",
        "print(\"Categorical Columns:\", list(categorical_columns))\n"
      ],
      "metadata": {
        "id": "rgCnZ_zYFSrI",
        "colab": {
          "base_uri": "https://localhost:8080/"
        },
        "outputId": "40b8ff59-e705-4c3a-9fa6-937fa5a58ed4"
      },
      "execution_count": 5,
      "outputs": [
        {
          "output_type": "stream",
          "name": "stdout",
          "text": [
            "\n",
            "Numerical Columns: ['Unit price', 'Quantity', 'Tax 5%', 'Total', 'cogs', 'gross margin percentage', 'gross income', 'Rating']\n",
            "Categorical Columns: ['Invoice ID', 'Branch', 'City', 'Customer type', 'Gender', 'Product line', 'Date', 'Time', 'Payment']\n"
          ]
        }
      ]
    },
    {
      "cell_type": "code",
      "source": [
        "numerical_columns = data.select_dtypes(include=['float64', 'int64']).columns.tolist()\n",
        "print(\"Numerical columns:\", numerical_columns)\n"
      ],
      "metadata": {
        "id": "HWezLI-1FXmb",
        "colab": {
          "base_uri": "https://localhost:8080/"
        },
        "outputId": "f415b071-21fd-42fd-a9d9-5d3a2b80fa36"
      },
      "execution_count": 9,
      "outputs": [
        {
          "output_type": "stream",
          "name": "stdout",
          "text": [
            "Numerical columns: ['Unit price', 'Quantity', 'Tax 5%', 'Total', 'cogs', 'gross margin percentage', 'gross income', 'Rating']\n"
          ]
        }
      ]
    },
    {
      "cell_type": "code",
      "source": [
        "from sklearn.preprocessing import MinMaxScaler\n",
        "\n",
        "# Automatically detect numerical columns\n",
        "numerical_columns = data.select_dtypes(include=['float64', 'int64']).columns.tolist()\n",
        "print(\"Numerical columns to scale:\", numerical_columns)\n",
        "\n",
        "# Create a MinMaxScaler instance\n",
        "scaler = MinMaxScaler()\n",
        "\n",
        "# Make a copy of the dataset for scaling\n",
        "data_scaled = data.copy()\n",
        "\n",
        "# Apply Min-Max Scaling\n",
        "data_scaled[numerical_columns] = scaler.fit_transform(data[numerical_columns])\n",
        "\n",
        "# Display the scaled dataset\n",
        "print(\"\\nDataset after applying Min-Max Scaling (first 5 rows):\")\n",
        "print(data_scaled.head())\n"
      ],
      "metadata": {
        "colab": {
          "base_uri": "https://localhost:8080/"
        },
        "id": "nAU5_PUBc_j6",
        "outputId": "9a3f86dc-806d-464e-8c37-1fd75eaff1bf"
      },
      "execution_count": 10,
      "outputs": [
        {
          "output_type": "stream",
          "name": "stdout",
          "text": [
            "Numerical columns to scale: ['Unit price', 'Quantity', 'Tax 5%', 'Total', 'cogs', 'gross margin percentage', 'gross income', 'Rating']\n",
            "\n",
            "Dataset after applying Min-Max Scaling (first 5 rows):\n",
            "    Invoice ID Branch       City Customer type  Gender  \\\n",
            "0  750-67-8428      A     Yangon        Member  Female   \n",
            "1  226-31-3081      C  Naypyitaw        Normal  Female   \n",
            "2  631-41-3108      A     Yangon        Normal    Male   \n",
            "3  123-19-1176      A     Yangon        Member    Male   \n",
            "4  373-73-7910      A     Yangon        Normal    Male   \n",
            "\n",
            "             Product line  Unit price  Quantity    Tax 5%     Total  \\\n",
            "0       Health and beauty    0.718847  0.666667  0.521616  0.521616   \n",
            "1  Electronic accessories    0.057855  0.444444  0.067387  0.067387   \n",
            "2      Home and lifestyle    0.403316  0.666667  0.319628  0.319628   \n",
            "3       Health and beauty    0.535603  0.777778  0.463549  0.463549   \n",
            "4       Sports and travel    0.848131  0.666667  0.604377  0.604377   \n",
            "\n",
            "        Date   Time      Payment      cogs  gross margin percentage  \\\n",
            "0   1/5/2019  13:08      Ewallet  0.521616                      0.0   \n",
            "1   3/8/2019  10:29         Cash  0.067387                      0.0   \n",
            "2   3/3/2019  13:23  Credit card  0.319628                      0.0   \n",
            "3  1/27/2019  20:33      Ewallet  0.463549                      0.0   \n",
            "4   2/8/2019  10:37      Ewallet  0.604377                      0.0   \n",
            "\n",
            "   gross income    Rating  \n",
            "0      0.521616  0.850000  \n",
            "1      0.067387  0.933333  \n",
            "2      0.319628  0.566667  \n",
            "3      0.463549  0.733333  \n",
            "4      0.604377  0.216667  \n"
          ]
        }
      ]
    },
    {
      "cell_type": "code",
      "source": [
        "print(data_scaled.columns)\n"
      ],
      "metadata": {
        "colab": {
          "base_uri": "https://localhost:8080/"
        },
        "id": "hOdTHa26dCGr",
        "outputId": "fa4de3f7-2a6e-4872-8cfd-0504579c172a"
      },
      "execution_count": 14,
      "outputs": [
        {
          "output_type": "stream",
          "name": "stdout",
          "text": [
            "Index(['Invoice ID', 'Branch', 'City', 'Customer type', 'Gender',\n",
            "       'Product line', 'Unit price', 'Quantity', 'Tax 5%', 'Total', 'Date',\n",
            "       'Time', 'Payment', 'cogs', 'gross margin percentage', 'gross income',\n",
            "       'Rating'],\n",
            "      dtype='object')\n"
          ]
        }
      ]
    },
    {
      "cell_type": "code",
      "source": [
        "categorical_columns = data_scaled.select_dtypes(include=['object', 'category']).columns.tolist()\n",
        "print(\"Categorical columns:\", categorical_columns)\n"
      ],
      "metadata": {
        "colab": {
          "base_uri": "https://localhost:8080/"
        },
        "id": "rfYu9BfXdCgh",
        "outputId": "917772da-19ed-407c-ce51-1a14a763515d"
      },
      "execution_count": 15,
      "outputs": [
        {
          "output_type": "stream",
          "name": "stdout",
          "text": [
            "Categorical columns: ['Invoice ID', 'Branch', 'City', 'Customer type', 'Gender', 'Product line', 'Date', 'Time', 'Payment']\n"
          ]
        }
      ]
    },
    {
      "cell_type": "code",
      "source": [
        "from sklearn.preprocessing import OneHotEncoder  # Import OneHotEncoder\n",
        "\n",
        "# Automatically detect categorical columns\n",
        "categorical_columns = data_scaled.select_dtypes(include=['object', 'category']).columns.tolist()\n",
        "print(\"Categorical columns to encode:\", categorical_columns)\n",
        "\n",
        "# Ensure categorical columns are correctly extracted as a DataFrame\n",
        "categorical_data = data_scaled[categorical_columns]\n",
        "\n",
        "# Apply One-Hot Encoding\n",
        "encoder = OneHotEncoder(sparse_output=False, drop='first')  # Avoid multicollinearity by dropping the first category\n",
        "encoded = encoder.fit_transform(categorical_data)\n",
        "\n",
        "# Create a DataFrame for encoded features\n",
        "encoded_columns = encoder.get_feature_names_out(categorical_columns)\n",
        "encoded_df = pd.DataFrame(encoded, columns=encoded_columns, index=categorical_data.index)\n",
        "\n",
        "# Concatenate encoded features with the scaled dataset\n",
        "data_preprocessed = pd.concat([data_scaled.drop(categorical_columns, axis=1), encoded_df], axis=1)\n",
        "\n",
        "print(\"\\nDataset after applying One-Hot Encoding (first 5 rows):\")\n",
        "print(data_preprocessed.head())\n"
      ],
      "metadata": {
        "colab": {
          "base_uri": "https://localhost:8080/"
        },
        "id": "6xKGH3oNds40",
        "outputId": "49f70f23-f4d4-421e-c83d-e8dbdd2e3622"
      },
      "execution_count": 16,
      "outputs": [
        {
          "output_type": "stream",
          "name": "stdout",
          "text": [
            "Categorical columns to encode: ['Invoice ID', 'Branch', 'City', 'Customer type', 'Gender', 'Product line', 'Date', 'Time', 'Payment']\n",
            "\n",
            "Dataset after applying One-Hot Encoding (first 5 rows):\n",
            "   Unit price  Quantity    Tax 5%     Total      cogs  \\\n",
            "0    0.718847  0.666667  0.521616  0.521616  0.521616   \n",
            "1    0.057855  0.444444  0.067387  0.067387  0.067387   \n",
            "2    0.403316  0.666667  0.319628  0.319628  0.319628   \n",
            "3    0.535603  0.777778  0.463549  0.463549  0.463549   \n",
            "4    0.848131  0.666667  0.604377  0.604377  0.604377   \n",
            "\n",
            "   gross margin percentage  gross income    Rating  Invoice ID_101-81-4070  \\\n",
            "0                      0.0      0.521616  0.850000                     0.0   \n",
            "1                      0.0      0.067387  0.933333                     0.0   \n",
            "2                      0.0      0.319628  0.566667                     0.0   \n",
            "3                      0.0      0.463549  0.733333                     0.0   \n",
            "4                      0.0      0.604377  0.216667                     0.0   \n",
            "\n",
            "   Invoice ID_102-06-2002  ...  Time_20:48  Time_20:50  Time_20:51  \\\n",
            "0                     0.0  ...         0.0         0.0         0.0   \n",
            "1                     0.0  ...         0.0         0.0         0.0   \n",
            "2                     0.0  ...         0.0         0.0         0.0   \n",
            "3                     0.0  ...         0.0         0.0         0.0   \n",
            "4                     0.0  ...         0.0         0.0         0.0   \n",
            "\n",
            "   Time_20:52  Time_20:54  Time_20:55  Time_20:57  Time_20:59  \\\n",
            "0         0.0         0.0         0.0         0.0         0.0   \n",
            "1         0.0         0.0         0.0         0.0         0.0   \n",
            "2         0.0         0.0         0.0         0.0         0.0   \n",
            "3         0.0         0.0         0.0         0.0         0.0   \n",
            "4         0.0         0.0         0.0         0.0         0.0   \n",
            "\n",
            "   Payment_Credit card  Payment_Ewallet  \n",
            "0                  0.0              1.0  \n",
            "1                  0.0              0.0  \n",
            "2                  1.0              0.0  \n",
            "3                  0.0              1.0  \n",
            "4                  0.0              1.0  \n",
            "\n",
            "[5 rows x 1613 columns]\n"
          ]
        }
      ]
    },
    {
      "cell_type": "code",
      "source": [
        "# Checking memory usage before and after preprocessing\n",
        "original_memory = data.memory_usage(deep=True).sum()\n",
        "preprocessed_memory = data_preprocessed.memory_usage(deep=True).sum()\n",
        "\n",
        "print(\"\\nMemory Usage Analysis:\")\n",
        "print(f\"Memory Usage Before Preprocessing: {original_memory} bytes\")\n",
        "print(f\"Memory Usage After Preprocessing: {preprocessed_memory} bytes\")\n",
        "print(f\"Difference in Memory Usage: {preprocessed_memory - original_memory} bytes\")\n",
        "\n",
        ""
      ],
      "metadata": {
        "colab": {
          "base_uri": "https://localhost:8080/"
        },
        "id": "mDiN6r-YdvH2",
        "outputId": "186d5b96-a0e1-4ab4-abd6-e72fa2d3fb90"
      },
      "execution_count": 17,
      "outputs": [
        {
          "output_type": "stream",
          "name": "stdout",
          "text": [
            "\n",
            "Memory Usage Analysis:\n",
            "Memory Usage Before Preprocessing: 647207 bytes\n",
            "Memory Usage After Preprocessing: 12904128 bytes\n",
            "Difference in Memory Usage: 12256921 bytes\n"
          ]
        }
      ]
    }
  ]
}